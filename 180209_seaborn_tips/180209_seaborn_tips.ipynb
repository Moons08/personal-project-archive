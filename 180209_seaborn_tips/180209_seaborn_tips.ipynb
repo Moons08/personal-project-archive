{
 "cells": [
  {
   "cell_type": "markdown",
   "metadata": {},
   "source": [
    "## tips 데이터에서 팁을 많이 받으려면 어떤 데이터가 중요한지 인사이트를 찾아내세요\n",
    "- 아래의 절차대로 Pandas를 이용하여 데이터를 분석해 보세요. (예시는 예시일 뿐입니다.)\n",
    "    - 가설설정 : 예) 주중보다 주말에 팁을 많이 줄것이다\n",
    "    - 분석과정설정 : 예) 주중 데이터와 주말데이터를 나눠 평균적 팁 금액의 데이터 프레임을 만든다.\n",
    "    - 결과확인 : 예) 주말과 주중데이터의 평균 팁에는 큰 차이가 없으므로 가설이 틀렸다. 그러므로 다시 가설설정!\n",
    "- 위의 가설을 여러개 세우셔서 어떤 데이터가 가장 팁에 대한 데이터에 영향을 많이 주는지 찾아보세요. (최소한 3개이상의 가설을 세워서 분석해보세요.)\n"
   ]
  },
  {
   "cell_type": "code",
   "execution_count": 1,
   "metadata": {},
   "outputs": [
    {
     "data": {
      "text/html": [
       "<div>\n",
       "<style>\n",
       "    .dataframe thead tr:only-child th {\n",
       "        text-align: right;\n",
       "    }\n",
       "\n",
       "    .dataframe thead th {\n",
       "        text-align: left;\n",
       "    }\n",
       "\n",
       "    .dataframe tbody tr th {\n",
       "        vertical-align: top;\n",
       "    }\n",
       "</style>\n",
       "<table border=\"1\" class=\"dataframe\">\n",
       "  <thead>\n",
       "    <tr style=\"text-align: right;\">\n",
       "      <th></th>\n",
       "      <th>total_bill</th>\n",
       "      <th>tip</th>\n",
       "      <th>sex</th>\n",
       "      <th>smoker</th>\n",
       "      <th>day</th>\n",
       "      <th>time</th>\n",
       "      <th>size</th>\n",
       "    </tr>\n",
       "  </thead>\n",
       "  <tbody>\n",
       "    <tr>\n",
       "      <th>239</th>\n",
       "      <td>29.03</td>\n",
       "      <td>5.92</td>\n",
       "      <td>Male</td>\n",
       "      <td>No</td>\n",
       "      <td>Sat</td>\n",
       "      <td>Dinner</td>\n",
       "      <td>3</td>\n",
       "    </tr>\n",
       "    <tr>\n",
       "      <th>240</th>\n",
       "      <td>27.18</td>\n",
       "      <td>2.00</td>\n",
       "      <td>Female</td>\n",
       "      <td>Yes</td>\n",
       "      <td>Sat</td>\n",
       "      <td>Dinner</td>\n",
       "      <td>2</td>\n",
       "    </tr>\n",
       "    <tr>\n",
       "      <th>241</th>\n",
       "      <td>22.67</td>\n",
       "      <td>2.00</td>\n",
       "      <td>Male</td>\n",
       "      <td>Yes</td>\n",
       "      <td>Sat</td>\n",
       "      <td>Dinner</td>\n",
       "      <td>2</td>\n",
       "    </tr>\n",
       "    <tr>\n",
       "      <th>242</th>\n",
       "      <td>17.82</td>\n",
       "      <td>1.75</td>\n",
       "      <td>Male</td>\n",
       "      <td>No</td>\n",
       "      <td>Sat</td>\n",
       "      <td>Dinner</td>\n",
       "      <td>2</td>\n",
       "    </tr>\n",
       "    <tr>\n",
       "      <th>243</th>\n",
       "      <td>18.78</td>\n",
       "      <td>3.00</td>\n",
       "      <td>Female</td>\n",
       "      <td>No</td>\n",
       "      <td>Thur</td>\n",
       "      <td>Dinner</td>\n",
       "      <td>2</td>\n",
       "    </tr>\n",
       "  </tbody>\n",
       "</table>\n",
       "</div>"
      ],
      "text/plain": [
       "     total_bill   tip     sex smoker   day    time  size\n",
       "239       29.03  5.92    Male     No   Sat  Dinner     3\n",
       "240       27.18  2.00  Female    Yes   Sat  Dinner     2\n",
       "241       22.67  2.00    Male    Yes   Sat  Dinner     2\n",
       "242       17.82  1.75    Male     No   Sat  Dinner     2\n",
       "243       18.78  3.00  Female     No  Thur  Dinner     2"
      ]
     },
     "execution_count": 1,
     "metadata": {},
     "output_type": "execute_result"
    }
   ],
   "source": [
    "tips = sns.load_dataset(\"tips\")  \n",
    "tips.tail()"
   ]
  },
  {
   "cell_type": "markdown",
   "metadata": {},
   "source": [
    "## 가설\n",
    "1. total_bill 이 높을 수록 팁을 많이 줄 것이다.\n",
    "2. size 가 높을수록 팁을 많이 줄 것이다.\n",
    "3. Lunch 보다는 Dinner가 많이 줄 것이다.\n"
   ]
  },
  {
   "cell_type": "markdown",
   "metadata": {},
   "source": [
    "## 분석 과정 설정\n",
    "\n",
    "- 전체 데이터와 함께 팁 액수에 따른 구간별 그룹을 설정하여 분석한다.\n",
    "    - 평균 tip = 3 \n",
    "    - (3 미만, 3이상 5 이하, 5 초과)"
   ]
  },
  {
   "cell_type": "markdown",
   "metadata": {},
   "source": [
    "#### 초기 세팅"
   ]
  },
  {
   "cell_type": "code",
   "execution_count": 2,
   "metadata": {
    "collapsed": true
   },
   "outputs": [],
   "source": [
    "def rounder(number):\n",
    "    if number %10 > 4:\n",
    "        number = number//10 * 10 + 5\n",
    "    else:\n",
    "        number = number//10 * 10\n",
    "    return int(number)"
   ]
  },
  {
   "cell_type": "code",
   "execution_count": 3,
   "metadata": {
    "collapsed": true
   },
   "outputs": [],
   "source": [
    "tips[\"count\"] = 1\n",
    "total_bill = tips[\"total_bill\"] \n",
    "tip = tips[\"tip\"]\n",
    "tips['a_total'] = tips[\"total_bill\"].apply(rounder)"
   ]
  },
  {
   "cell_type": "code",
   "execution_count": 4,
   "metadata": {
    "collapsed": true
   },
   "outputs": [],
   "source": [
    "def day_to_num(x):\n",
    "    if str(x) == 'Thur':\n",
    "        return 0\n",
    "    elif str(x) == 'Fri':\n",
    "        return 1\n",
    "    elif str(x) == 'Sat':\n",
    "        return 2\n",
    "    elif str(x) =='Sun':\n",
    "        return 3"
   ]
  },
  {
   "cell_type": "code",
   "execution_count": 5,
   "metadata": {
    "collapsed": true
   },
   "outputs": [],
   "source": [
    "tips['sex2'] = tips['sex'].apply(lambda x: 0 if len(x) == 4 else 1)\n",
    "tips['day2'] = tips['day'].apply(day_to_num)\n",
    "tips['time2'] = tips['time'].apply(lambda x: 0 if len(x) == 5 else 1)\n",
    "tips['smoker2'] = tips['smoker'].apply(lambda x: 0 if len(x) == 2 else 1)\n",
    "tips['size2'] = tips['size']"
   ]
  },
  {
   "cell_type": "code",
   "execution_count": 6,
   "metadata": {
    "collapsed": true
   },
   "outputs": [],
   "source": [
    "%matplotlib inline"
   ]
  },
  {
   "cell_type": "code",
   "execution_count": 7,
   "metadata": {
    "collapsed": true
   },
   "outputs": [],
   "source": [
    "sns.set()\n",
    "sns.set_style('whitegrid')\n",
    "sns.set_context('paper')\n",
    "sns.set_palette(\"muted\", 4)"
   ]
  },
  {
   "cell_type": "markdown",
   "metadata": {},
   "source": [
    "#### 구간별 그룹 설정"
   ]
  },
  {
   "cell_type": "code",
   "execution_count": 8,
   "metadata": {
    "collapsed": true
   },
   "outputs": [],
   "source": [
    "tips_lower= tips[tips[\"tip\"]<3].reset_index()"
   ]
  },
  {
   "cell_type": "code",
   "execution_count": 9,
   "metadata": {
    "collapsed": true
   },
   "outputs": [],
   "source": [
    "tips_upper3= tips[tips[\"tip\"]>=3]\n",
    "tips_upper3= tips_upper3[tips_upper3[\"tip\"]<=5].reset_index()"
   ]
  },
  {
   "cell_type": "code",
   "execution_count": 10,
   "metadata": {
    "collapsed": true
   },
   "outputs": [],
   "source": [
    "tips_upper5= tips[tips[\"tip\"]>5].reset_index()"
   ]
  },
  {
   "cell_type": "code",
   "execution_count": 11,
   "metadata": {
    "collapsed": true
   },
   "outputs": [],
   "source": [
    "tips_less5= tips[tips[\"tip\"]<=5].reset_index()"
   ]
  },
  {
   "cell_type": "code",
   "execution_count": 12,
   "metadata": {},
   "outputs": [
    {
     "name": "stdout",
     "output_type": "stream",
     "text": [
      "total [mean: 3.0, median: 2.9]\n",
      "upper 3 [mean: 3.65, median: 3.5]\n",
      "upper 5 [mean: 6.27, median: 5.885]\n",
      "less 5 [mean: 2.74, median: 2.605]\n"
     ]
    }
   ],
   "source": [
    "mean_tip, median_tip = round(tips['tip'].mean(), 2), tips['tip'].median()\n",
    "print(\"total [mean: {}, median: {}]\".format(mean_tip, median_tip))\n",
    "\n",
    "mean_tip3, median_tip3 = round(tips_upper3['tip'].mean(), 2), tips_upper3['tip'].median()\n",
    "print(\"upper 3 [mean: {}, median: {}]\".format(mean_tip3, median_tip3))\n",
    "\n",
    "mean_tip5, median_tip5 = round(tips_upper5['tip'].mean(), 2), tips_upper5['tip'].median()\n",
    "print(\"upper 5 [mean: {}, median: {}]\".format(mean_tip5, median_tip5))\n",
    "\n",
    "mean_less5, median_less5 = round(tips_less5['tip'].mean(), 2), tips_less5['tip'].median()\n",
    "print(\"less 5 [mean: {}, median: {}]\".format(mean_less5, median_less5))"
   ]
  },
  {
   "cell_type": "markdown",
   "metadata": {},
   "source": [
    "---"
   ]
  },
  {
   "cell_type": "markdown",
   "metadata": {},
   "source": [
    "## 가설1. total_bill이 클수록 tip이 증가할 것이다."
   ]
  },
  {
   "cell_type": "code",
   "execution_count": 13,
   "metadata": {},
   "outputs": [
    {
     "data": {
      "image/png": "[encoded data removed]",
      "text/plain": [
       "<matplotlib.figure.Figure at 0x7f1ee25e1f60>"
      ]
     },
     "metadata": {},
     "output_type": "display_data"
    }
   ],
   "source": [
    "sns.jointplot(tips[\"tip\"],tips['total_bill'] , color = 'green')\n",
    "plt.show()"
   ]
  },
  {
   "cell_type": "code",
   "execution_count": 14,
   "metadata": {
    "collapsed": true
   },
   "outputs": [],
   "source": [
    "to = tips.pivot_table(index=\"a_total\", values=\"tip\", columns=\"count\", aggfunc='mean') # 그래프 변화가 너무 커서 index값을 조정했다.\n",
    "to3 = tips_upper3.pivot_table(index=\"total_bill\", values=\"tip\", columns=\"count\", aggfunc='mean')\n",
    "to5 = tips_upper5.pivot_table(index=\"total_bill\", values=\"tip\", columns=\"count\", aggfunc='mean')\n",
    "to_lower = tips_lower.pivot_table(index=\"total_bill\", values=\"tip\", columns=\"count\", aggfunc='mean')"
   ]
  },
  {
   "cell_type": "code",
   "execution_count": 15,
   "metadata": {},
   "outputs": [
    {
     "data": {
      "image/png": "[encoded data removed]",
      "text/plain": [
       "<matplotlib.figure.Figure at 0x7f1ee01394e0>"
      ]
     },
     "metadata": {},
     "output_type": "display_data"
    }
   ],
   "source": [
    "plt.plot(to_lower, label = 'lower 3')\n",
    "plt.plot(to3, label= '3 - 5')\n",
    "plt.plot(to5, label = 'upper 5')\n",
    "plt.plot(to, lw=4,label= 'total')\n",
    "plt.legend(loc=0)\n",
    "plt.show()"
   ]
  },
  {
   "cell_type": "markdown",
   "metadata": {},
   "source": [
    "### a_total : total_bill 을 길이 5의 구간으로 나눔"
   ]
  },
  {
   "cell_type": "code",
   "execution_count": 16,
   "metadata": {
    "collapsed": true
   },
   "outputs": [],
   "source": [
    "to = tips.pivot_table(index=\"a_total\", values=\"tip\", columns=\"count\", aggfunc='mean')\n",
    "to3 = tips_upper3.pivot_table(index=\"a_total\", values=\"tip\", columns=\"count\", aggfunc='mean')\n",
    "to5 = tips_upper5.pivot_table(index=\"a_total\", values=\"tip\", columns=\"count\", aggfunc='mean')\n",
    "to_lower = tips_lower.pivot_table(index=\"a_total\", values=\"tip\", columns=\"count\", aggfunc='mean')"
   ]
  },
  {
   "cell_type": "code",
   "execution_count": 17,
   "metadata": {},
   "outputs": [
    {
     "data": {
      "image/png": "[encoded data removed]",
      "text/plain": [
       "<matplotlib.figure.Figure at 0x7f1ee01184e0>"
      ]
     },
     "metadata": {},
     "output_type": "display_data"
    }
   ],
   "source": [
    "plt.plot(to_lower, label = 'lower 3')\n",
    "plt.plot(to3, label= '3 - 5')\n",
    "plt.plot(to5, label = 'upper 5')\n",
    "plt.plot(to, lw= '4',label= 'total')\n",
    "plt.legend(loc=0)\n",
    "plt.show()"
   ]
  },
  {
   "cell_type": "markdown",
   "metadata": {},
   "source": [
    "#### 가설 1 검증:\n",
    "- 5 달러 이하의 팁을 낸 사람들은 total_bill과 tip간의 관계가 나타나지 않는다.\n",
    "- 다만, 5달러 초과의 팁을 낸 사람들은 total_bill이 증가할 수록 팁을 더 내는 경향이 보인다.\n",
    "\n",
    "\n",
    "#### 팁을 많이 내는 그룹은 total_bill에 비례해 팁을 더 낸다.\n",
    "-  팁을 적게 주는 그룹의 팁 액수는 total_bill 과 연관이 없다."
   ]
  },
  {
   "cell_type": "markdown",
   "metadata": {},
   "source": [
    "---"
   ]
  },
  {
   "cell_type": "markdown",
   "metadata": {},
   "source": [
    "## 가설 2. size가 커질수록 팁이 증가한다.\n",
    "- size와 (tip의 평균값)이 비례"
   ]
  },
  {
   "cell_type": "code",
   "execution_count": 18,
   "metadata": {
    "collapsed": true
   },
   "outputs": [],
   "source": [
    "s_to = tips.pivot_table(index=\"size\", values=\"tip\", columns='count', aggfunc='mean')\n",
    "s_3 = tips_upper3.pivot_table(index=\"size\", values=\"tip\", columns='count', aggfunc='mean')\n",
    "s_5 = tips_upper5.pivot_table(index=\"size\", values=\"tip\", columns='count', aggfunc='mean')\n",
    "s_lo = tips_lower.pivot_table(index=\"size\", values=\"tip\", columns='count', aggfunc='mean')"
   ]
  },
  {
   "cell_type": "code",
   "execution_count": 19,
   "metadata": {},
   "outputs": [
    {
     "data": {
      "image/png": "[encoded data removed]",
      "text/plain": [
       "<matplotlib.figure.Figure at 0x7f1ee0092710>"
      ]
     },
     "metadata": {},
     "output_type": "display_data"
    }
   ],
   "source": [
    "plt.plot(s_lo, label = 'lower 3')\n",
    "plt.plot(s_3, label= '3 - 5')\n",
    "plt.plot(s_5, label = 'upper 5')\n",
    "plt.plot(s_to, lw='4',label= 'total')\n",
    "plt.legend(loc=0)\n",
    "plt.show()"
   ]
  },
  {
   "cell_type": "markdown",
   "metadata": {},
   "source": [
    "#### 가설 2 검증:\n",
    "- 전체값이 가설1의 전체값과 비슷한 양상을 띄고 있다.\n",
    "- 구간별 그룹간의 차이를 분석하기에는 데이터 구간이 좁다."
   ]
  },
  {
   "cell_type": "markdown",
   "metadata": {},
   "source": [
    "---"
   ]
  },
  {
   "cell_type": "markdown",
   "metadata": {},
   "source": [
    "### 가설 1& 2 의 상관 예상\n",
    "- 사람수가 많으면 많이 먹는다...\n",
    "- 따라서 size와 total_bill은 같은 방향의 feature"
   ]
  },
  {
   "cell_type": "code",
   "execution_count": 20,
   "metadata": {
    "collapsed": true
   },
   "outputs": [],
   "source": [
    "ts_t= tips.pivot_table(index=\"total_bill\", values=\"size\", columns=\"count\", aggfunc='mean')\n",
    "ts_l=tips_lower.pivot_table(index=\"total_bill\", values=\"size\", columns=\"count\", aggfunc='mean')\n",
    "ts_3=tips_upper3.pivot_table(index=\"total_bill\", values=\"size\", columns=\"count\", aggfunc='mean')\n",
    "ts_5=tips_upper5.pivot_table(index=\"total_bill\", values=\"size\", columns=\"count\", aggfunc='mean')"
   ]
  },
  {
   "cell_type": "code",
   "execution_count": 21,
   "metadata": {},
   "outputs": [
    {
     "data": {
      "image/png": "[encoded data removed]",
      "text/plain": [
       "<matplotlib.figure.Figure at 0x7f1ed653e208>"
      ]
     },
     "metadata": {},
     "output_type": "display_data"
    }
   ],
   "source": [
    "plt.plot(ts_l, label = 'lower 3')\n",
    "plt.plot(ts_3, label= '3 - 5')\n",
    "plt.plot(ts_5, label = 'upper 5')\n",
    "plt.plot(ts_t, lw='1',label= 'total')\n",
    "plt.legend(loc=0)\n",
    "plt.show()"
   ]
  },
  {
   "cell_type": "markdown",
   "metadata": {},
   "source": [
    "분포값이 너무 다양해 a_total로 구간을 나누었다"
   ]
  },
  {
   "cell_type": "code",
   "execution_count": 22,
   "metadata": {
    "collapsed": true
   },
   "outputs": [],
   "source": [
    "ts_t= tips.pivot_table(index=\"a_total\", values=\"size\", columns=\"count\", aggfunc='mean')\n",
    "ts_l=tips_lower.pivot_table(index=\"a_total\", values=\"size\", columns=\"count\", aggfunc='mean')\n",
    "ts_3=tips_upper3.pivot_table(index=\"a_total\", values=\"size\", columns=\"count\", aggfunc='mean')\n",
    "ts_5=tips_upper5.pivot_table(index=\"a_total\", values=\"size\", columns=\"count\", aggfunc='mean')"
   ]
  },
  {
   "cell_type": "code",
   "execution_count": 23,
   "metadata": {},
   "outputs": [
    {
     "data": {
      "image/png": "[encoded data removed]",
      "text/plain": [
       "<matplotlib.figure.Figure at 0x7f1ee0092940>"
      ]
     },
     "metadata": {},
     "output_type": "display_data"
    }
   ],
   "source": [
    "plt.plot(ts_l, label = 'lower 3')\n",
    "plt.plot(ts_3, label= '3 - 5')\n",
    "plt.plot(ts_5, label = 'upper 5')\n",
    "plt.plot(ts_t, lw='4',label= 'total')\n",
    "plt.legend(loc=0)\n",
    "plt.show()"
   ]
  },
  {
   "cell_type": "markdown",
   "metadata": {},
   "source": [
    "#### - 가설 1(total_bill)과 2(size)의 값은 서로 양의 상관을 가진다.\n",
    "- 일정 수치(그룹마다 상이)를 지나면 음의 상관으로 바뀐다.\n",
    "    - 머릿수에 따라 총 음식값이 증가하지만 일정 수준 이후에는 감소\n",
    "    \n",
    "    \n",
    "## 1&2 분석\n",
    "- 테이블의 사람이 많을 수록 음식 값이 많이 나온다.\n",
    "- 총 음식 값과 인원 수는 팁과는 (upper5 제외하고는) 큰 연관이 없다."
   ]
  },
  {
   "cell_type": "markdown",
   "metadata": {},
   "source": [
    "---"
   ]
  },
  {
   "cell_type": "markdown",
   "metadata": {},
   "source": [
    "## 가설3. Lunch < Dinner"
   ]
  },
  {
   "cell_type": "code",
   "execution_count": 24,
   "metadata": {
    "collapsed": true
   },
   "outputs": [],
   "source": [
    "time_t = tips.pivot_table(index=\"time\", values=\"tip\", columns='count', aggfunc='mean')\n",
    "time_l = tips_lower.pivot_table(index=\"time\", values=\"tip\", columns='count', aggfunc='mean')\n",
    "time_3 = tips_upper3.pivot_table(index=\"time\", values=\"tip\", columns='count', aggfunc='mean')\n",
    "time_5 = tips_upper5.pivot_table(index=\"time\", values=\"tip\", columns='count', aggfunc='mean')"
   ]
  },
  {
   "cell_type": "code",
   "execution_count": 25,
   "metadata": {
    "collapsed": true
   },
   "outputs": [],
   "source": [
    "data = {\n",
    "   'lower 3': time_l[1],\n",
    "   'upper 3': time_3[1],\n",
    "   'upper 5':time_5[1],\n",
    "    }  \n",
    "result = pd.DataFrame(data)\n",
    "result['total'] = time_t[1]"
   ]
  },
  {
   "cell_type": "code",
   "execution_count": 26,
   "metadata": {},
   "outputs": [
    {
     "data": {
      "image/png": "[encoded data removed]",
      "text/plain": [
       "<matplotlib.figure.Figure at 0x7f1ed63d86a0>"
      ]
     },
     "metadata": {},
     "output_type": "display_data"
    }
   ],
   "source": [
    "sns.heatmap(result, cmap=sns.light_palette(\"seagreen\", as_cmap=True), annot=True, fmt=\".2f\")\n",
    "plt.show()"
   ]
  },
  {
   "cell_type": "markdown",
   "metadata": {},
   "source": [
    "가설 3 검증:\n",
    "- 팁을 많이 주는 그룹을 제외하고는, 점심과 저녁의 차이가 뚜렷하지 않다."
   ]
  },
  {
   "cell_type": "markdown",
   "metadata": {},
   "source": [
    "---"
   ]
  },
  {
   "cell_type": "markdown",
   "metadata": {},
   "source": [
    "# 가설 재수립\n",
    "1. 성별\n",
    "1. 흡연여부\n",
    "1. 요일"
   ]
  },
  {
   "cell_type": "markdown",
   "metadata": {},
   "source": [
    "## 2 - 1. 성별\n",
    "- 마찬가지로 그룹별 분석\n",
    "- 결과값이 뚜렷하게 나타나지 않아 log와 exp로 조정"
   ]
  },
  {
   "cell_type": "code",
   "execution_count": 27,
   "metadata": {
    "collapsed": true
   },
   "outputs": [],
   "source": [
    "sex_t = tips.pivot_table(index=\"sex\", values=\"tip\", columns='count', aggfunc='mean')\n",
    "sex_l = tips_lower.pivot_table(index=\"sex\", values=\"tip\", columns='count', aggfunc='mean')\n",
    "sex_3 = tips_upper3.pivot_table(index=\"sex\", values=\"tip\", columns='count', aggfunc='mean')\n",
    "sex_5 = tips_upper5.pivot_table(index=\"sex\", values=\"tip\", columns='count', aggfunc='mean')"
   ]
  },
  {
   "cell_type": "code",
   "execution_count": 28,
   "metadata": {},
   "outputs": [
    {
     "data": {
      "text/html": [
       "<div>\n",
       "<style>\n",
       "    .dataframe thead tr:only-child th {\n",
       "        text-align: right;\n",
       "    }\n",
       "\n",
       "    .dataframe thead th {\n",
       "        text-align: left;\n",
       "    }\n",
       "\n",
       "    .dataframe tbody tr th {\n",
       "        vertical-align: top;\n",
       "    }\n",
       "</style>\n",
       "<table border=\"1\" class=\"dataframe\">\n",
       "  <thead>\n",
       "    <tr style=\"text-align: right;\">\n",
       "      <th></th>\n",
       "      <th>lower 3</th>\n",
       "      <th>upper 3</th>\n",
       "      <th>upper 5</th>\n",
       "      <th>total</th>\n",
       "    </tr>\n",
       "    <tr>\n",
       "      <th>sex</th>\n",
       "      <th></th>\n",
       "      <th></th>\n",
       "      <th></th>\n",
       "      <th></th>\n",
       "    </tr>\n",
       "  </thead>\n",
       "  <tbody>\n",
       "    <tr>\n",
       "      <th>Male</th>\n",
       "      <td>1.954267</td>\n",
       "      <td>3.641029</td>\n",
       "      <td>6.493571</td>\n",
       "      <td>3.089618</td>\n",
       "    </tr>\n",
       "    <tr>\n",
       "      <th>Female</th>\n",
       "      <td>2.003958</td>\n",
       "      <td>3.666000</td>\n",
       "      <td>5.502500</td>\n",
       "      <td>2.833448</td>\n",
       "    </tr>\n",
       "  </tbody>\n",
       "</table>\n",
       "</div>"
      ],
      "text/plain": [
       "         lower 3   upper 3   upper 5     total\n",
       "sex                                           \n",
       "Male    1.954267  3.641029  6.493571  3.089618\n",
       "Female  2.003958  3.666000  5.502500  2.833448"
      ]
     },
     "execution_count": 28,
     "metadata": {},
     "output_type": "execute_result"
    }
   ],
   "source": [
    "data = {\n",
    "   'lower 3': sex_l[1],\n",
    "   'upper 3': sex_3[1],\n",
    "   'upper 5':sex_5[1],\n",
    "    }  \n",
    "sex_result = pd.DataFrame(data)\n",
    "sex_result['total'] = sex_t[1]\n",
    "sex_result"
   ]
  },
  {
   "cell_type": "code",
   "execution_count": 29,
   "metadata": {},
   "outputs": [
    {
     "data": {
      "image/png": "[encoded data removed]",
      "text/plain": [
       "<matplotlib.figure.Figure at 0x7f1ed62de2e8>"
      ]
     },
     "metadata": {},
     "output_type": "display_data"
    }
   ],
   "source": [
    "plt.subplot(311)\n",
    "sns.heatmap((sex_result), xticklabels=False, cmap='YlGnBu', annot=True, fmt=\".2f\") #default\n",
    "plt.subplot(312)\n",
    "sns.heatmap(np.log(sex_result), xticklabels=False ,cmap='YlGnBu', annot=True, fmt=\".2f\") # log\n",
    "plt.subplot(313)\n",
    "sns.heatmap(np.exp(sex_result), cmap='YlGnBu', annot=True, fmt=\".2f\") # exp\n",
    "plt.show()"
   ]
  },
  {
   "cell_type": "markdown",
   "metadata": {},
   "source": [
    "### 가설 2-1 검증:\n",
    "- upper 5 그룹을 제외하고는 남여간의 팁 차이는 뚜렷하게 나타나지 않는다.\n",
    "- upper 5 그룹에서는 남성이 팁을 다소 더 주는 경향이 있다. "
   ]
  },
  {
   "cell_type": "markdown",
   "metadata": {},
   "source": [
    "---"
   ]
  },
  {
   "cell_type": "markdown",
   "metadata": {},
   "source": [
    "## 2 - 2. 흡연\n",
    "- 성별 분석과 동일"
   ]
  },
  {
   "cell_type": "code",
   "execution_count": 30,
   "metadata": {
    "collapsed": true
   },
   "outputs": [],
   "source": [
    "smoker_t = tips.pivot_table(index=\"smoker\", values=\"tip\", columns='count', aggfunc='mean')\n",
    "smoker_l = tips_lower.pivot_table(index=\"smoker\", values=\"tip\", columns='count', aggfunc='mean')\n",
    "smoker_3 = tips_upper3.pivot_table(index=\"smoker\", values=\"tip\", columns='count', aggfunc='mean')\n",
    "smoker_5 = tips_upper5.pivot_table(index=\"smoker\", values=\"tip\", columns='count', aggfunc='mean')"
   ]
  },
  {
   "cell_type": "code",
   "execution_count": 31,
   "metadata": {},
   "outputs": [
    {
     "data": {
      "text/html": [
       "<div>\n",
       "<style>\n",
       "    .dataframe thead tr:only-child th {\n",
       "        text-align: right;\n",
       "    }\n",
       "\n",
       "    .dataframe thead th {\n",
       "        text-align: left;\n",
       "    }\n",
       "\n",
       "    .dataframe tbody tr th {\n",
       "        vertical-align: top;\n",
       "    }\n",
       "</style>\n",
       "<table border=\"1\" class=\"dataframe\">\n",
       "  <thead>\n",
       "    <tr style=\"text-align: right;\">\n",
       "      <th></th>\n",
       "      <th>lower 3</th>\n",
       "      <th>upper 3</th>\n",
       "      <th>upper 5</th>\n",
       "      <th>total</th>\n",
       "    </tr>\n",
       "    <tr>\n",
       "      <th>smoker</th>\n",
       "      <th></th>\n",
       "      <th></th>\n",
       "      <th></th>\n",
       "      <th></th>\n",
       "    </tr>\n",
       "  </thead>\n",
       "  <tbody>\n",
       "    <tr>\n",
       "      <th>Yes</th>\n",
       "      <td>1.912093</td>\n",
       "      <td>3.605227</td>\n",
       "      <td>6.493333</td>\n",
       "      <td>3.008710</td>\n",
       "    </tr>\n",
       "    <tr>\n",
       "      <th>No</th>\n",
       "      <td>2.006750</td>\n",
       "      <td>3.682542</td>\n",
       "      <td>6.163333</td>\n",
       "      <td>2.991854</td>\n",
       "    </tr>\n",
       "  </tbody>\n",
       "</table>\n",
       "</div>"
      ],
      "text/plain": [
       "         lower 3   upper 3   upper 5     total\n",
       "smoker                                        \n",
       "Yes     1.912093  3.605227  6.493333  3.008710\n",
       "No      2.006750  3.682542  6.163333  2.991854"
      ]
     },
     "execution_count": 31,
     "metadata": {},
     "output_type": "execute_result"
    }
   ],
   "source": [
    "data = {\n",
    "   'lower 3': smoker_l[1],\n",
    "   'upper 3': smoker_3[1],\n",
    "   'upper 5':smoker_5[1],\n",
    "    }  \n",
    "smoke_result = pd.DataFrame(data)\n",
    "smoke_result['total'] = smoker_t[1]\n",
    "smoke_result"
   ]
  },
  {
   "cell_type": "code",
   "execution_count": 32,
   "metadata": {},
   "outputs": [
    {
     "data": {
      "image/png": "[encoded data removed]",
      "text/plain": [
       "<matplotlib.figure.Figure at 0x7f1ed618b9b0>"
      ]
     },
     "metadata": {},
     "output_type": "display_data"
    }
   ],
   "source": [
    "plt.subplot(311)\n",
    "sns.heatmap((smoke_result), xticklabels=False, cmap='YlGnBu', annot=True, fmt=\".2f\")\n",
    "plt.subplot(312)\n",
    "sns.heatmap(np.log(smoke_result), xticklabels=False ,cmap='YlGnBu', annot=True, fmt=\".2f\")\n",
    "plt.subplot(313)\n",
    "sns.heatmap(np.exp(smoke_result), cmap='YlGnBu', annot=True, fmt=\".2f\")\n",
    "plt.show()"
   ]
  },
  {
   "cell_type": "markdown",
   "metadata": {},
   "source": [
    "### 가설 2 - 2 검증:\n",
    "- 가설 2 - 1 과 유사하다"
   ]
  },
  {
   "cell_type": "code",
   "execution_count": 33,
   "metadata": {},
   "outputs": [
    {
     "data": {
      "image/png": "[encoded data removed]",
      "text/plain": [
       "<matplotlib.figure.Figure at 0x7f1ed617abe0>"
      ]
     },
     "metadata": {},
     "output_type": "display_data"
    }
   ],
   "source": [
    "#가설 2-1\n",
    "plt.subplot(321)\n",
    "sns.heatmap((sex_result), xticklabels=False, cbar=False, cmap='YlGnBu', annot=True, fmt=\".2f\")\n",
    "plt.subplot(323)\n",
    "sns.heatmap(np.log(sex_result), xticklabels=False ,cbar=False,cmap='YlGnBu', annot=True, fmt=\".2f\")\n",
    "plt.subplot(325)\n",
    "sns.heatmap(np.exp(sex_result), cbar=False,cmap='YlGnBu', annot=True, fmt=\".2f\")\n",
    "#가설 2-2\n",
    "plt.subplot(322)\n",
    "sns.heatmap((smoke_result), xticklabels=False,cbar=False, cmap='YlGnBu', annot=True, fmt=\".2f\")\n",
    "plt.subplot(324)\n",
    "sns.heatmap(np.log(smoke_result), xticklabels=False ,cbar=False,cmap='YlGnBu', annot=True, fmt=\".2f\")\n",
    "plt.subplot(326)\n",
    "sns.heatmap(np.exp(smoke_result), cbar=False,cmap='YlGnBu', annot=True, fmt=\".2f\")\n",
    "\n",
    "\n",
    "plt.show()"
   ]
  },
  {
   "cell_type": "markdown",
   "metadata": {},
   "source": [
    "### 가설 2-1 & 2-2\n",
    "실제로 성별 결과와 흡연 결과의 큰 차이가 없어 보인다.\n",
    "- 다만, upper_5그룹에서 성별간의 차이가 흡연 유무의 차이보다 더 크다."
   ]
  },
  {
   "cell_type": "markdown",
   "metadata": {},
   "source": [
    "---"
   ]
  },
  {
   "cell_type": "markdown",
   "metadata": {},
   "source": [
    "## 가설 2 - 3. 요일"
   ]
  },
  {
   "cell_type": "code",
   "execution_count": 34,
   "metadata": {
    "collapsed": true
   },
   "outputs": [],
   "source": [
    "day_t = tips.pivot_table(index=\"day\", values=\"tip\", columns=\"count\", aggfunc='mean')\n",
    "day_3 = tips_upper3.pivot_table(index=\"day\", values=\"tip\", columns=\"count\", aggfunc='mean')\n",
    "day_5 = tips_upper5.pivot_table(index=\"day\", values=\"tip\", columns=\"count\", aggfunc='mean')\n",
    "day_l = tips_lower.pivot_table(index=\"day\", values=\"tip\", columns=\"count\", aggfunc='mean')"
   ]
  },
  {
   "cell_type": "code",
   "execution_count": 35,
   "metadata": {},
   "outputs": [
    {
     "data": {
      "text/html": [
       "<div>\n",
       "<style>\n",
       "    .dataframe thead tr:only-child th {\n",
       "        text-align: right;\n",
       "    }\n",
       "\n",
       "    .dataframe thead th {\n",
       "        text-align: left;\n",
       "    }\n",
       "\n",
       "    .dataframe tbody tr th {\n",
       "        vertical-align: top;\n",
       "    }\n",
       "</style>\n",
       "<table border=\"1\" class=\"dataframe\">\n",
       "  <thead>\n",
       "    <tr style=\"text-align: right;\">\n",
       "      <th></th>\n",
       "      <th>lower 3</th>\n",
       "      <th>upper 3</th>\n",
       "      <th>upper 5</th>\n",
       "      <th>total</th>\n",
       "    </tr>\n",
       "    <tr>\n",
       "      <th>day</th>\n",
       "      <th></th>\n",
       "      <th></th>\n",
       "      <th></th>\n",
       "      <th></th>\n",
       "    </tr>\n",
       "  </thead>\n",
       "  <tbody>\n",
       "    <tr>\n",
       "      <th>Thur</th>\n",
       "      <td>2.008500</td>\n",
       "      <td>3.882632</td>\n",
       "      <td>5.906667</td>\n",
       "      <td>2.771452</td>\n",
       "    </tr>\n",
       "    <tr>\n",
       "      <th>Fri</th>\n",
       "      <td>1.855556</td>\n",
       "      <td>3.526000</td>\n",
       "      <td>NaN</td>\n",
       "      <td>2.734737</td>\n",
       "    </tr>\n",
       "    <tr>\n",
       "      <th>Sat</th>\n",
       "      <td>1.931778</td>\n",
       "      <td>3.502286</td>\n",
       "      <td>7.270000</td>\n",
       "      <td>2.993103</td>\n",
       "    </tr>\n",
       "    <tr>\n",
       "      <th>Sun</th>\n",
       "      <td>2.027241</td>\n",
       "      <td>3.699744</td>\n",
       "      <td>5.538750</td>\n",
       "      <td>3.255132</td>\n",
       "    </tr>\n",
       "  </tbody>\n",
       "</table>\n",
       "</div>"
      ],
      "text/plain": [
       "       lower 3   upper 3   upper 5     total\n",
       "day                                         \n",
       "Thur  2.008500  3.882632  5.906667  2.771452\n",
       "Fri   1.855556  3.526000       NaN  2.734737\n",
       "Sat   1.931778  3.502286  7.270000  2.993103\n",
       "Sun   2.027241  3.699744  5.538750  3.255132"
      ]
     },
     "execution_count": 35,
     "metadata": {},
     "output_type": "execute_result"
    }
   ],
   "source": [
    "data = {\n",
    "   'lower 3': day_l[1],\n",
    "   'upper 3': day_3[1],\n",
    "   'upper 5':day_5[1],\n",
    "    }  \n",
    "day_result = pd.DataFrame(data)\n",
    "day_result['total'] = day_t[1]\n",
    "day_result"
   ]
  },
  {
   "cell_type": "code",
   "execution_count": 36,
   "metadata": {},
   "outputs": [
    {
     "data": {
      "image/png": "[encoded data removed]",
      "text/plain": [
       "<matplotlib.figure.Figure at 0x7f1ed6131b38>"
      ]
     },
     "metadata": {},
     "output_type": "display_data"
    }
   ],
   "source": [
    "sns.heatmap((day_result), cmap='YlGnBu', annot=True, fmt=\".2f\")\n",
    "plt.show()"
   ]
  },
  {
   "cell_type": "markdown",
   "metadata": {},
   "source": [
    "###  가설 2-3 검증:\n",
    "- (목-일)요일간의 차이가 미미하다."
   ]
  },
  {
   "cell_type": "markdown",
   "metadata": {},
   "source": [
    "---"
   ]
  },
  {
   "cell_type": "markdown",
   "metadata": {},
   "source": [
    "# 가설 3. upper 5 그룹의 특징이 있을 것이다."
   ]
  },
  {
   "cell_type": "code",
   "execution_count": 37,
   "metadata": {},
   "outputs": [
    {
     "data": {
      "text/html": [
       "<div>\n",
       "<style>\n",
       "    .dataframe thead tr:only-child th {\n",
       "        text-align: right;\n",
       "    }\n",
       "\n",
       "    .dataframe thead th {\n",
       "        text-align: left;\n",
       "    }\n",
       "\n",
       "    .dataframe tbody tr th {\n",
       "        vertical-align: top;\n",
       "    }\n",
       "</style>\n",
       "<table border=\"1\" class=\"dataframe\">\n",
       "  <thead>\n",
       "    <tr style=\"text-align: right;\">\n",
       "      <th></th>\n",
       "      <th>index</th>\n",
       "      <th>total_bill</th>\n",
       "      <th>tip</th>\n",
       "      <th>sex</th>\n",
       "      <th>smoker</th>\n",
       "      <th>day</th>\n",
       "      <th>time</th>\n",
       "      <th>size</th>\n",
       "      <th>count</th>\n",
       "      <th>a_total</th>\n",
       "      <th>sex2</th>\n",
       "      <th>day2</th>\n",
       "      <th>time2</th>\n",
       "      <th>smoker2</th>\n",
       "      <th>size2</th>\n",
       "    </tr>\n",
       "  </thead>\n",
       "  <tbody>\n",
       "    <tr>\n",
       "      <th>0</th>\n",
       "      <td>23</td>\n",
       "      <td>39.42</td>\n",
       "      <td>7.58</td>\n",
       "      <td>Male</td>\n",
       "      <td>No</td>\n",
       "      <td>Sat</td>\n",
       "      <td>Dinner</td>\n",
       "      <td>4</td>\n",
       "      <td>1</td>\n",
       "      <td>35</td>\n",
       "      <td>0</td>\n",
       "      <td>2</td>\n",
       "      <td>1</td>\n",
       "      <td>0</td>\n",
       "      <td>4</td>\n",
       "    </tr>\n",
       "    <tr>\n",
       "      <th>1</th>\n",
       "      <td>44</td>\n",
       "      <td>30.40</td>\n",
       "      <td>5.60</td>\n",
       "      <td>Male</td>\n",
       "      <td>No</td>\n",
       "      <td>Sun</td>\n",
       "      <td>Dinner</td>\n",
       "      <td>4</td>\n",
       "      <td>1</td>\n",
       "      <td>30</td>\n",
       "      <td>0</td>\n",
       "      <td>3</td>\n",
       "      <td>1</td>\n",
       "      <td>0</td>\n",
       "      <td>4</td>\n",
       "    </tr>\n",
       "    <tr>\n",
       "      <th>2</th>\n",
       "      <td>47</td>\n",
       "      <td>32.40</td>\n",
       "      <td>6.00</td>\n",
       "      <td>Male</td>\n",
       "      <td>No</td>\n",
       "      <td>Sun</td>\n",
       "      <td>Dinner</td>\n",
       "      <td>4</td>\n",
       "      <td>1</td>\n",
       "      <td>30</td>\n",
       "      <td>0</td>\n",
       "      <td>3</td>\n",
       "      <td>1</td>\n",
       "      <td>0</td>\n",
       "      <td>4</td>\n",
       "    </tr>\n",
       "    <tr>\n",
       "      <th>3</th>\n",
       "      <td>52</td>\n",
       "      <td>34.81</td>\n",
       "      <td>5.20</td>\n",
       "      <td>Female</td>\n",
       "      <td>No</td>\n",
       "      <td>Sun</td>\n",
       "      <td>Dinner</td>\n",
       "      <td>4</td>\n",
       "      <td>1</td>\n",
       "      <td>35</td>\n",
       "      <td>1</td>\n",
       "      <td>3</td>\n",
       "      <td>1</td>\n",
       "      <td>0</td>\n",
       "      <td>4</td>\n",
       "    </tr>\n",
       "    <tr>\n",
       "      <th>4</th>\n",
       "      <td>59</td>\n",
       "      <td>48.27</td>\n",
       "      <td>6.73</td>\n",
       "      <td>Male</td>\n",
       "      <td>No</td>\n",
       "      <td>Sat</td>\n",
       "      <td>Dinner</td>\n",
       "      <td>4</td>\n",
       "      <td>1</td>\n",
       "      <td>45</td>\n",
       "      <td>0</td>\n",
       "      <td>2</td>\n",
       "      <td>1</td>\n",
       "      <td>0</td>\n",
       "      <td>4</td>\n",
       "    </tr>\n",
       "    <tr>\n",
       "      <th>5</th>\n",
       "      <td>85</td>\n",
       "      <td>34.83</td>\n",
       "      <td>5.17</td>\n",
       "      <td>Female</td>\n",
       "      <td>No</td>\n",
       "      <td>Thur</td>\n",
       "      <td>Lunch</td>\n",
       "      <td>4</td>\n",
       "      <td>1</td>\n",
       "      <td>35</td>\n",
       "      <td>1</td>\n",
       "      <td>0</td>\n",
       "      <td>0</td>\n",
       "      <td>0</td>\n",
       "      <td>4</td>\n",
       "    </tr>\n",
       "    <tr>\n",
       "      <th>6</th>\n",
       "      <td>88</td>\n",
       "      <td>24.71</td>\n",
       "      <td>5.85</td>\n",
       "      <td>Male</td>\n",
       "      <td>No</td>\n",
       "      <td>Thur</td>\n",
       "      <td>Lunch</td>\n",
       "      <td>2</td>\n",
       "      <td>1</td>\n",
       "      <td>25</td>\n",
       "      <td>0</td>\n",
       "      <td>0</td>\n",
       "      <td>0</td>\n",
       "      <td>0</td>\n",
       "      <td>2</td>\n",
       "    </tr>\n",
       "    <tr>\n",
       "      <th>7</th>\n",
       "      <td>116</td>\n",
       "      <td>29.93</td>\n",
       "      <td>5.07</td>\n",
       "      <td>Male</td>\n",
       "      <td>No</td>\n",
       "      <td>Sun</td>\n",
       "      <td>Dinner</td>\n",
       "      <td>4</td>\n",
       "      <td>1</td>\n",
       "      <td>25</td>\n",
       "      <td>0</td>\n",
       "      <td>3</td>\n",
       "      <td>1</td>\n",
       "      <td>0</td>\n",
       "      <td>4</td>\n",
       "    </tr>\n",
       "    <tr>\n",
       "      <th>8</th>\n",
       "      <td>141</td>\n",
       "      <td>34.30</td>\n",
       "      <td>6.70</td>\n",
       "      <td>Male</td>\n",
       "      <td>No</td>\n",
       "      <td>Thur</td>\n",
       "      <td>Lunch</td>\n",
       "      <td>6</td>\n",
       "      <td>1</td>\n",
       "      <td>35</td>\n",
       "      <td>0</td>\n",
       "      <td>0</td>\n",
       "      <td>0</td>\n",
       "      <td>0</td>\n",
       "      <td>6</td>\n",
       "    </tr>\n",
       "    <tr>\n",
       "      <th>9</th>\n",
       "      <td>155</td>\n",
       "      <td>29.85</td>\n",
       "      <td>5.14</td>\n",
       "      <td>Female</td>\n",
       "      <td>No</td>\n",
       "      <td>Sun</td>\n",
       "      <td>Dinner</td>\n",
       "      <td>5</td>\n",
       "      <td>1</td>\n",
       "      <td>25</td>\n",
       "      <td>1</td>\n",
       "      <td>3</td>\n",
       "      <td>1</td>\n",
       "      <td>0</td>\n",
       "      <td>5</td>\n",
       "    </tr>\n",
       "    <tr>\n",
       "      <th>10</th>\n",
       "      <td>170</td>\n",
       "      <td>50.81</td>\n",
       "      <td>10.00</td>\n",
       "      <td>Male</td>\n",
       "      <td>Yes</td>\n",
       "      <td>Sat</td>\n",
       "      <td>Dinner</td>\n",
       "      <td>3</td>\n",
       "      <td>1</td>\n",
       "      <td>50</td>\n",
       "      <td>0</td>\n",
       "      <td>2</td>\n",
       "      <td>1</td>\n",
       "      <td>1</td>\n",
       "      <td>3</td>\n",
       "    </tr>\n",
       "    <tr>\n",
       "      <th>11</th>\n",
       "      <td>172</td>\n",
       "      <td>7.25</td>\n",
       "      <td>5.15</td>\n",
       "      <td>Male</td>\n",
       "      <td>Yes</td>\n",
       "      <td>Sun</td>\n",
       "      <td>Dinner</td>\n",
       "      <td>2</td>\n",
       "      <td>1</td>\n",
       "      <td>5</td>\n",
       "      <td>0</td>\n",
       "      <td>3</td>\n",
       "      <td>1</td>\n",
       "      <td>1</td>\n",
       "      <td>2</td>\n",
       "    </tr>\n",
       "    <tr>\n",
       "      <th>12</th>\n",
       "      <td>181</td>\n",
       "      <td>23.33</td>\n",
       "      <td>5.65</td>\n",
       "      <td>Male</td>\n",
       "      <td>Yes</td>\n",
       "      <td>Sun</td>\n",
       "      <td>Dinner</td>\n",
       "      <td>2</td>\n",
       "      <td>1</td>\n",
       "      <td>20</td>\n",
       "      <td>0</td>\n",
       "      <td>3</td>\n",
       "      <td>1</td>\n",
       "      <td>1</td>\n",
       "      <td>2</td>\n",
       "    </tr>\n",
       "    <tr>\n",
       "      <th>13</th>\n",
       "      <td>183</td>\n",
       "      <td>23.17</td>\n",
       "      <td>6.50</td>\n",
       "      <td>Male</td>\n",
       "      <td>Yes</td>\n",
       "      <td>Sun</td>\n",
       "      <td>Dinner</td>\n",
       "      <td>4</td>\n",
       "      <td>1</td>\n",
       "      <td>20</td>\n",
       "      <td>0</td>\n",
       "      <td>3</td>\n",
       "      <td>1</td>\n",
       "      <td>1</td>\n",
       "      <td>4</td>\n",
       "    </tr>\n",
       "    <tr>\n",
       "      <th>14</th>\n",
       "      <td>211</td>\n",
       "      <td>25.89</td>\n",
       "      <td>5.16</td>\n",
       "      <td>Male</td>\n",
       "      <td>Yes</td>\n",
       "      <td>Sat</td>\n",
       "      <td>Dinner</td>\n",
       "      <td>4</td>\n",
       "      <td>1</td>\n",
       "      <td>25</td>\n",
       "      <td>0</td>\n",
       "      <td>2</td>\n",
       "      <td>1</td>\n",
       "      <td>1</td>\n",
       "      <td>4</td>\n",
       "    </tr>\n",
       "    <tr>\n",
       "      <th>15</th>\n",
       "      <td>212</td>\n",
       "      <td>48.33</td>\n",
       "      <td>9.00</td>\n",
       "      <td>Male</td>\n",
       "      <td>No</td>\n",
       "      <td>Sat</td>\n",
       "      <td>Dinner</td>\n",
       "      <td>4</td>\n",
       "      <td>1</td>\n",
       "      <td>45</td>\n",
       "      <td>0</td>\n",
       "      <td>2</td>\n",
       "      <td>1</td>\n",
       "      <td>0</td>\n",
       "      <td>4</td>\n",
       "    </tr>\n",
       "    <tr>\n",
       "      <th>16</th>\n",
       "      <td>214</td>\n",
       "      <td>28.17</td>\n",
       "      <td>6.50</td>\n",
       "      <td>Female</td>\n",
       "      <td>Yes</td>\n",
       "      <td>Sat</td>\n",
       "      <td>Dinner</td>\n",
       "      <td>3</td>\n",
       "      <td>1</td>\n",
       "      <td>25</td>\n",
       "      <td>1</td>\n",
       "      <td>2</td>\n",
       "      <td>1</td>\n",
       "      <td>1</td>\n",
       "      <td>3</td>\n",
       "    </tr>\n",
       "    <tr>\n",
       "      <th>17</th>\n",
       "      <td>239</td>\n",
       "      <td>29.03</td>\n",
       "      <td>5.92</td>\n",
       "      <td>Male</td>\n",
       "      <td>No</td>\n",
       "      <td>Sat</td>\n",
       "      <td>Dinner</td>\n",
       "      <td>3</td>\n",
       "      <td>1</td>\n",
       "      <td>25</td>\n",
       "      <td>0</td>\n",
       "      <td>2</td>\n",
       "      <td>1</td>\n",
       "      <td>0</td>\n",
       "      <td>3</td>\n",
       "    </tr>\n",
       "  </tbody>\n",
       "</table>\n",
       "</div>"
      ],
      "text/plain": [
       "    index  total_bill    tip     sex smoker   day    time  size  count  \\\n",
       "0      23       39.42   7.58    Male     No   Sat  Dinner     4      1   \n",
       "1      44       30.40   5.60    Male     No   Sun  Dinner     4      1   \n",
       "2      47       32.40   6.00    Male     No   Sun  Dinner     4      1   \n",
       "3      52       34.81   5.20  Female     No   Sun  Dinner     4      1   \n",
       "4      59       48.27   6.73    Male     No   Sat  Dinner     4      1   \n",
       "5      85       34.83   5.17  Female     No  Thur   Lunch     4      1   \n",
       "6      88       24.71   5.85    Male     No  Thur   Lunch     2      1   \n",
       "7     116       29.93   5.07    Male     No   Sun  Dinner     4      1   \n",
       "8     141       34.30   6.70    Male     No  Thur   Lunch     6      1   \n",
       "9     155       29.85   5.14  Female     No   Sun  Dinner     5      1   \n",
       "10    170       50.81  10.00    Male    Yes   Sat  Dinner     3      1   \n",
       "11    172        7.25   5.15    Male    Yes   Sun  Dinner     2      1   \n",
       "12    181       23.33   5.65    Male    Yes   Sun  Dinner     2      1   \n",
       "13    183       23.17   6.50    Male    Yes   Sun  Dinner     4      1   \n",
       "14    211       25.89   5.16    Male    Yes   Sat  Dinner     4      1   \n",
       "15    212       48.33   9.00    Male     No   Sat  Dinner     4      1   \n",
       "16    214       28.17   6.50  Female    Yes   Sat  Dinner     3      1   \n",
       "17    239       29.03   5.92    Male     No   Sat  Dinner     3      1   \n",
       "\n",
       "    a_total sex2 day2 time2 smoker2  size2  \n",
       "0        35    0    2     1       0      4  \n",
       "1        30    0    3     1       0      4  \n",
       "2        30    0    3     1       0      4  \n",
       "3        35    1    3     1       0      4  \n",
       "4        45    0    2     1       0      4  \n",
       "5        35    1    0     0       0      4  \n",
       "6        25    0    0     0       0      2  \n",
       "7        25    0    3     1       0      4  \n",
       "8        35    0    0     0       0      6  \n",
       "9        25    1    3     1       0      5  \n",
       "10       50    0    2     1       1      3  \n",
       "11        5    0    3     1       1      2  \n",
       "12       20    0    3     1       1      2  \n",
       "13       20    0    3     1       1      4  \n",
       "14       25    0    2     1       1      4  \n",
       "15       45    0    2     1       0      4  \n",
       "16       25    1    2     1       1      3  \n",
       "17       25    0    2     1       0      3  "
      ]
     },
     "execution_count": 37,
     "metadata": {},
     "output_type": "execute_result"
    }
   ],
   "source": [
    "tips_upper5 # 총 18팀, 244팀 중 7%"
   ]
  },
  {
   "cell_type": "markdown",
   "metadata": {},
   "source": [
    "### 3 - 1. 흡연 특징"
   ]
  },
  {
   "cell_type": "code",
   "execution_count": 38,
   "metadata": {
    "collapsed": true
   },
   "outputs": [],
   "source": [
    "sr = tips_upper5.pivot_table(index=\"smoker2\", values = 'count', columns='smoker', aggfunc=np.sum )\n",
    "srt = tips.pivot_table(index=\"smoker2\", values = 'count', columns='smoker', aggfunc=np.sum )"
   ]
  },
  {
   "cell_type": "markdown",
   "metadata": {},
   "source": [
    "values 값을 count로 잡는다. upper_5 그룹이 어떤 분포인지 알기 위해."
   ]
  },
  {
   "cell_type": "code",
   "execution_count": 39,
   "metadata": {},
   "outputs": [
    {
     "data": {
      "image/png": "[encoded data removed]",
      "text/plain": [
       "<matplotlib.figure.Figure at 0x7f1ed6445908>"
      ]
     },
     "metadata": {},
     "output_type": "display_data"
    }
   ],
   "source": [
    "plt.subplot(121)\n",
    "sns.heatmap(sr, cmap=sns.light_palette(\"navy\", as_cmap=True), annot=True, fmt=\".2f\")\n",
    "plt.subplot(122)\n",
    "sns.heatmap(srt, cmap=sns.light_palette(\"navy\", as_cmap=True), annot=True, fmt=\".2f\")\n",
    "\n",
    "plt.show()"
   ]
  },
  {
   "cell_type": "code",
   "execution_count": 40,
   "metadata": {},
   "outputs": [
    {
     "name": "stdout",
     "output_type": "stream",
     "text": [
      "total smoke rate : 38.11 \n",
      "upper_5 smoke rate : 33.33\n"
     ]
    }
   ],
   "source": [
    "smoke_rate_t = round(srt.iloc[0,0]/(srt.iloc[0,0] + srt.iloc[1,1]) * 100, 2)\n",
    "smoke_rate_5 =round(sr.iloc[0,0]/(sr.iloc[0,0] + sr.iloc[1,1]) * 100, 2)\n",
    "print(\"total smoke rate : {} \\nupper_5 smoke rate : {}\".format(smoke_rate_t, smoke_rate_5))"
   ]
  },
  {
   "cell_type": "code",
   "execution_count": 41,
   "metadata": {},
   "outputs": [
    {
     "data": {
      "image/png": "[encoded data removed]",
      "text/plain": [
       "<matplotlib.figure.Figure at 0x7f1ed63537f0>"
      ]
     },
     "metadata": {},
     "output_type": "display_data"
    }
   ],
   "source": [
    "sns.heatmap(sr/srt*100, cmap=sns.light_palette(\"navy\", as_cmap=True), annot=True, fmt=\".2f\")\n",
    "plt.show()"
   ]
  },
  {
   "cell_type": "markdown",
   "metadata": {},
   "source": [
    "#### 가설 3 - 검증1. \n",
    "- 전체 흡연율에 비해 팁을 많이 주는 그룹의 흡연율이 5%p 낮다.\n",
    "- 비흡연자 고객이 upper_5그룹일 확률 12/151, 7.95%\n",
    "- 흡연자 고객이 upper_5그룹일 확률 6/93, 6.45%\n",
    "\n",
    "\n",
    "### 비흡연자 고객에게 팁을 많이 받을 확률이 1.5%p 더 높다."
   ]
  },
  {
   "cell_type": "markdown",
   "metadata": {},
   "source": [
    "검증1-2."
   ]
  },
  {
   "cell_type": "code",
   "execution_count": 42,
   "metadata": {
    "collapsed": true
   },
   "outputs": [],
   "source": [
    "from pgmpy.factors.discrete import TabularCPD\n",
    "from pgmpy.models import BayesianModel"
   ]
  },
  {
   "cell_type": "code",
   "execution_count": 43,
   "metadata": {},
   "outputs": [
    {
     "name": "stdout",
     "output_type": "stream",
     "text": [
      "╒══════════╤═══════════╕\n",
      "│ Upper5_0 │ 0.92623   │\n",
      "├──────────┼───────────┤\n",
      "│ Upper5_1 │ 0.0737705 │\n",
      "╘══════════╧═══════════╛\n"
     ]
    }
   ],
   "source": [
    "cpd_S = TabularCPD('Upper5', 2, [[1-18/244, 18/244]])\n",
    "print(cpd_S) # upper5"
   ]
  },
  {
   "cell_type": "code",
   "execution_count": 44,
   "metadata": {},
   "outputs": [
    {
     "name": "stdout",
     "output_type": "stream",
     "text": [
      "╒═════════╤═════════════════════╤════════════════════╕\n",
      "│ Upper5  │ Upper5_0            │ Upper5_1           │\n",
      "├─────────┼─────────────────────┼────────────────────┤\n",
      "│ Smoke_0 │ 0.6150442477876106  │ 0.6666666666666667 │\n",
      "├─────────┼─────────────────────┼────────────────────┤\n",
      "│ Smoke_1 │ 0.38495575221238937 │ 0.3333333333333333 │\n",
      "╘═════════╧═════════════════════╧════════════════════╛\n"
     ]
    }
   ],
   "source": [
    "cpd_US = TabularCPD('Smoke', 2, np.array([[1-87/226, 1-1/3], [87/226, 1/3]]),\n",
    "                                    evidence=['Upper5'], evidence_card=[2])\n",
    "print(cpd_US)"
   ]
  },
  {
   "cell_type": "code",
   "execution_count": 45,
   "metadata": {},
   "outputs": [
    {
     "data": {
      "text/plain": [
       "True"
      ]
     },
     "execution_count": 45,
     "metadata": {},
     "output_type": "execute_result"
    }
   ],
   "source": [
    "model = BayesianModel([('Upper5', 'Smoke')])\n",
    "model.add_cpds(cpd_S, cpd_US)\n",
    "model.check_model()"
   ]
  },
  {
   "cell_type": "code",
   "execution_count": 46,
   "metadata": {},
   "outputs": [
    {
     "name": "stdout",
     "output_type": "stream",
     "text": [
      "╒══════════╤═══════════════╕\n",
      "│ Upper5   │   phi(Upper5) │\n",
      "╞══════════╪═══════════════╡\n",
      "│ Upper5_0 │        0.9205 │\n",
      "├──────────┼───────────────┤\n",
      "│ Upper5_1 │        0.0795 │\n",
      "╘══════════╧═══════════════╛\n",
      "╒══════════╤═══════════════╕\n",
      "│ Upper5   │   phi(Upper5) │\n",
      "╞══════════╪═══════════════╡\n",
      "│ Upper5_0 │        0.9355 │\n",
      "├──────────┼───────────────┤\n",
      "│ Upper5_1 │        0.0645 │\n",
      "╘══════════╧═══════════════╛\n"
     ]
    }
   ],
   "source": [
    "from pgmpy.inference import VariableElimination\n",
    "\n",
    "infer = VariableElimination(model)\n",
    "posterior = infer.query(['Upper5'], evidence={'Smoke': 0}) # no Smoke 일때,\n",
    "print(posterior['Upper5']) #  upper5일 확률 : 7.95%\n",
    "posterior = infer.query(['Upper5'], evidence={'Smoke': 1}) # Smoke 일때,\n",
    "print(posterior['Upper5']) #  upper5일 확률 : 6.45%"
   ]
  },
  {
   "cell_type": "markdown",
   "metadata": {},
   "source": [
    "---"
   ]
  },
  {
   "cell_type": "markdown",
   "metadata": {},
   "source": [
    "### 3 - 2. 시간 특징"
   ]
  },
  {
   "cell_type": "code",
   "execution_count": 47,
   "metadata": {
    "collapsed": true
   },
   "outputs": [],
   "source": [
    "LD = tips_upper5.pivot_table(index=\"time2\", values = 'count', columns='time', aggfunc=np.sum )\n",
    "LDt = tips.pivot_table(index=\"time2\", values = 'count', columns='time', aggfunc=np.sum)"
   ]
  },
  {
   "cell_type": "code",
   "execution_count": 48,
   "metadata": {},
   "outputs": [
    {
     "data": {
      "image/png": "[encoded data removed]",
      "text/plain": [
       "<matplotlib.figure.Figure at 0x7f1ed2780b70>"
      ]
     },
     "metadata": {},
     "output_type": "display_data"
    }
   ],
   "source": [
    "plt.subplot(121)\n",
    "sns.heatmap(LD, cmap=sns.light_palette(\"skyblue\", as_cmap=True), annot=True, fmt=\".2f\")\n",
    "plt.subplot(122)\n",
    "sns.heatmap(LDt, cmap=sns.light_palette(\"skyblue\", as_cmap=True), annot=True, fmt=\".2f\")\n",
    "\n",
    "plt.show()"
   ]
  },
  {
   "cell_type": "code",
   "execution_count": 49,
   "metadata": {},
   "outputs": [
    {
     "name": "stdout",
     "output_type": "stream",
     "text": [
      "LD rate : 72.13 \n",
      "upper_5 LD rate : 83.33\n"
     ]
    }
   ],
   "source": [
    "LD_rate_t = round(LDt.iloc[1,1]/(LDt.iloc[0,0] + LDt.iloc[1,1]) * 100, 2)\n",
    "LD_rate_5 =round(LD.iloc[1,1]/(LD.iloc[0,0] + LD.iloc[1,1]) * 100, 2)\n",
    "\n",
    "print(\"LD rate : {} \\nupper_5 LD rate : {}\".format(LD_rate_t, LD_rate_5))"
   ]
  },
  {
   "cell_type": "code",
   "execution_count": 50,
   "metadata": {},
   "outputs": [
    {
     "data": {
      "image/png": "[encoded data removed]",
      "text/plain": [
       "<matplotlib.figure.Figure at 0x7f1ed27d7940>"
      ]
     },
     "metadata": {},
     "output_type": "display_data"
    }
   ],
   "source": [
    "sns.heatmap(LD/LDt*100, cmap=sns.light_palette(\"skyblue\", as_cmap=True), annot=True, fmt=\".2f\")\n",
    "plt.show()"
   ]
  },
  {
   "cell_type": "markdown",
   "metadata": {},
   "source": [
    "#### 가설 3 - 검증2. \n",
    "- 점심시간에 비해 저녁시간에 upper_5그룹이 올 확률이 높다.\n",
    "- Dinner에 온 고객이 upper_5그룹일 확률 8.52%\n",
    "- Lunch에 온 고객이 upper_5그룹일 확률 4.41%\n",
    "\n",
    "### 저녁시간에 온 고객에게 팁을 많이 받을 확률이 4%p 높다."
   ]
  },
  {
   "cell_type": "markdown",
   "metadata": {},
   "source": [
    "---"
   ]
  },
  {
   "cell_type": "markdown",
   "metadata": {
    "collapsed": true
   },
   "source": [
    "### 3 - 3 요일 특징"
   ]
  },
  {
   "cell_type": "code",
   "execution_count": 51,
   "metadata": {
    "collapsed": true
   },
   "outputs": [],
   "source": [
    "day5 = tips_upper5.pivot_table(index=\"day2\", values = 'count', columns='day', aggfunc=np.sum )\n",
    "dayt = tips.pivot_table(index=\"day2\", values = 'count', columns='day', aggfunc=np.sum )"
   ]
  },
  {
   "cell_type": "code",
   "execution_count": 52,
   "metadata": {},
   "outputs": [
    {
     "data": {
      "image/png": "[encoded data removed]",
      "text/plain": [
       "<matplotlib.figure.Figure at 0x7f1ed6256208>"
      ]
     },
     "metadata": {},
     "output_type": "display_data"
    }
   ],
   "source": [
    "plt.subplot(121)\n",
    "sns.heatmap(day5, cmap=sns.light_palette(\"orange\", as_cmap=True), annot=True, fmt=\".2f\")\n",
    "plt.subplot(122)\n",
    "sns.heatmap(dayt, cmap=sns.light_palette(\"orange\", as_cmap=True), annot=True, fmt=\".2f\")\n",
    "plt.show()"
   ]
  },
  {
   "cell_type": "code",
   "execution_count": 53,
   "metadata": {},
   "outputs": [
    {
     "data": {
      "image/png": "[encoded data removed]",
      "text/plain": [
       "<matplotlib.figure.Figure at 0x7f1ed62840b8>"
      ]
     },
     "metadata": {},
     "output_type": "display_data"
    }
   ],
   "source": [
    "sns.heatmap(day5/dayt*100, cmap=sns.light_palette(\"orange\", as_cmap=True), annot=True, fmt=\".2f\")\n",
    "plt.show()"
   ]
  },
  {
   "cell_type": "markdown",
   "metadata": {},
   "source": [
    "#### 가설 3 검증3.\n",
    "- 일요일 고객이 upper_5 고객일 확률 10.53%\n",
    "- 토요일 고객이 upper_5 고객일 확률 8.05%\n",
    "- 목요일 고객이 upper_5 고객일 확률 4.84%\n",
    "- 금요일의 경우 upper_5 고객 데이터가 없다.\n",
    "\n",
    "### 주말에 온 고객에게 팁을 많이 받을 확률이 약 5%p 높다.\n",
    "\n"
   ]
  },
  {
   "cell_type": "markdown",
   "metadata": {},
   "source": [
    "---"
   ]
  },
  {
   "cell_type": "markdown",
   "metadata": {},
   "source": [
    "### 3 - 4 성별 특징"
   ]
  },
  {
   "cell_type": "code",
   "execution_count": 54,
   "metadata": {
    "collapsed": true
   },
   "outputs": [],
   "source": [
    "sex5 = tips_upper5.pivot_table(index=\"sex2\", values = 'count', columns='sex', aggfunc=np.sum )\n",
    "sext = tips.pivot_table(index=\"sex2\", values = 'count', columns='sex', aggfunc=np.sum )"
   ]
  },
  {
   "cell_type": "code",
   "execution_count": 55,
   "metadata": {},
   "outputs": [
    {
     "data": {
      "image/png": "[encoded data removed]",
      "text/plain": [
       "<matplotlib.figure.Figure at 0x7f1ed27cde48>"
      ]
     },
     "metadata": {},
     "output_type": "display_data"
    }
   ],
   "source": [
    "plt.subplot(121)\n",
    "sns.heatmap(sex5, cmap=sns.light_palette(\"brown\", as_cmap=True), annot=True, fmt=\".2f\")\n",
    "plt.subplot(122)\n",
    "sns.heatmap(sext, cmap=sns.light_palette(\"brown\", as_cmap=True), annot=True, fmt=\".2f\")\n",
    "plt.show()"
   ]
  },
  {
   "cell_type": "code",
   "execution_count": 56,
   "metadata": {},
   "outputs": [
    {
     "data": {
      "image/png": "[encoded data removed]",
      "text/plain": [
       "<matplotlib.figure.Figure at 0x7f1ed64705c0>"
      ]
     },
     "metadata": {},
     "output_type": "display_data"
    }
   ],
   "source": [
    "sns.heatmap(sex5/sext*100, cmap=sns.light_palette(\"brown\", as_cmap=True), annot=True, fmt=\".2f\")\n",
    "plt.show()"
   ]
  },
  {
   "cell_type": "markdown",
   "metadata": {},
   "source": [
    "#### 가설 3 검증4.\n",
    "- 남성 고객이 upper_5 그룹일 확률 8.92%\n",
    "- 여성 고객이 upper_5 그룹일 확률 4.60%\n",
    "\n",
    "\n",
    "### 남성 고객에게 팁을 많이 받을 확률이 약 4%p 높다.\n",
    "\n"
   ]
  },
  {
   "cell_type": "markdown",
   "metadata": {},
   "source": [
    "---"
   ]
  },
  {
   "cell_type": "markdown",
   "metadata": {},
   "source": [
    "### 가설 3 - 5 size"
   ]
  },
  {
   "cell_type": "code",
   "execution_count": 57,
   "metadata": {
    "collapsed": true
   },
   "outputs": [],
   "source": [
    "size5 = tips_upper5.pivot_table(index=\"size2\", values = 'count', columns='size', aggfunc=np.sum )\n",
    "sizet = tips.pivot_table(index=\"size2\", values = 'count', columns='size', aggfunc=np.sum )"
   ]
  },
  {
   "cell_type": "code",
   "execution_count": 58,
   "metadata": {},
   "outputs": [
    {
     "data": {
      "image/png": "[encoded data removed]",
      "text/plain": [
       "<matplotlib.figure.Figure at 0x7f1ee01e8780>"
      ]
     },
     "metadata": {},
     "output_type": "display_data"
    }
   ],
   "source": [
    "plt.subplot(121)\n",
    "sns.heatmap(size5, cmap=sns.light_palette(\"lightgreen\", as_cmap=True), annot=True, fmt=\".2f\")\n",
    "plt.subplot(122)\n",
    "sns.heatmap(sizet, cmap=sns.light_palette(\"lightgreen\", as_cmap=True), annot=True, fmt=\".2f\")\n",
    "plt.show()"
   ]
  },
  {
   "cell_type": "code",
   "execution_count": 59,
   "metadata": {},
   "outputs": [
    {
     "data": {
      "image/png": "[encoded data removed]",
      "text/plain": [
       "<matplotlib.figure.Figure at 0x7f1ee02112b0>"
      ]
     },
     "metadata": {},
     "output_type": "display_data"
    }
   ],
   "source": [
    "sns.heatmap(size5/sizet*100, cmap=sns.light_palette(\"lightgreen\", as_cmap=True), annot=True, fmt=\".2f\")\n",
    "plt.show()"
   ]
  },
  {
   "cell_type": "markdown",
   "metadata": {},
   "source": [
    "#### 가설 3 검증5.\n",
    "- size2일때 upper_5그룹일 확률 1.92%\n",
    "- size4일때 upper_5그룹일 확률 27.03%\n",
    "\n",
    "### 고객이 4명 이상인 경우 upper_5 그룹일 확률이 높다. "
   ]
  },
  {
   "cell_type": "markdown",
   "metadata": {},
   "source": [
    "---"
   ]
  },
  {
   "cell_type": "markdown",
   "metadata": {},
   "source": [
    "# 결론"
   ]
  },
  {
   "cell_type": "markdown",
   "metadata": {},
   "source": [
    "### 팁을 많이 받기 위해서는\n",
    "- **주말** **저녁** 시간 근무가 유리하며,\n",
    "- 고객을 맞이할 때는\n",
    "    - **4명 이상**의 그룹으로 구성된 고객이 좋다.\n",
    "    - (계산을 할 것으로 예상되는) **남성 비흡연자**가 포함되어있다면 금상첨화\n",
    "    \n",
    "중요도 순으로는 다음과 같다.\n",
    "\n",
    "1. 4인이상 (15%p)\n",
    "1. 주말 (5%p)\n",
    "1. 남성 (4.3%p)      \n",
    "1. 저녁시간 (4.1%p)\n",
    "1. 비흡연자 (1.5%p)"
   ]
  },
  {
   "cell_type": "code",
   "execution_count": 60,
   "metadata": {},
   "outputs": [
    {
     "data": {
      "image/png": "[encoded data removed]",
      "text/plain": [
       "<matplotlib.figure.Figure at 0x7f1ee005f1d0>"
      ]
     },
     "metadata": {},
     "output_type": "display_data"
    }
   ],
   "source": [
    "plt.subplot(221)\n",
    "sns.heatmap(sr/srt*100, cbar=False, cmap=sns.light_palette(\"navy\", as_cmap=True), annot=True, fmt=\".2f\")\n",
    "plt.subplot(222)\n",
    "sns.heatmap(LD/LDt*100, cbar=False, cmap=sns.light_palette(\"skyblue\", as_cmap=True), annot=True, fmt=\".2f\")\n",
    "plt.subplot(223)\n",
    "sns.heatmap(day5/dayt*100, cbar=False, cmap=sns.light_palette(\"orange\", as_cmap=True), annot=True, fmt=\".2f\")\n",
    "plt.subplot(224)\n",
    "sns.heatmap(sex5/sext*100, cbar=False, cmap=sns.light_palette(\"brown\", as_cmap=True), annot=True, fmt=\".2f\")\n",
    "\n",
    "plt.show() #숫자가 높을 수록 upper_5 (5달러이상 낸 그룹)일 확률이 높음."
   ]
  },
  {
   "cell_type": "code",
   "execution_count": 61,
   "metadata": {},
   "outputs": [
    {
     "data": {
      "image/png": "[encoded data removed]",
      "text/plain": [
       "<matplotlib.figure.Figure at 0x7f1ed60e5d30>"
      ]
     },
     "metadata": {},
     "output_type": "display_data"
    }
   ],
   "source": [
    "sns.heatmap(size5/sizet*100, cbar=False, cmap=sns.light_palette(\"lightgreen\", as_cmap=True), annot=True, fmt=\".2f\")\n",
    "plt.show()"
   ]
  },
  {
   "cell_type": "markdown",
   "metadata": {},
   "source": [
    "---"
   ]
  },
  {
   "cell_type": "markdown",
   "metadata": {},
   "source": [
    "updated 180210"
   ]
  },
  {
   "cell_type": "markdown",
   "metadata": {},
   "source": [
    "### Baye's theorem \n",
    "with pgmpy"
   ]
  },
  {
   "cell_type": "code",
   "execution_count": 62,
   "metadata": {
    "collapsed": true
   },
   "outputs": [],
   "source": [
    "from pgmpy.models import BayesianModel\n",
    "from pgmpy.factors.discrete import TabularCPD\n",
    "from pgmpy.inference import VariableElimination"
   ]
  },
  {
   "cell_type": "code",
   "execution_count": 63,
   "metadata": {
    "collapsed": true
   },
   "outputs": [],
   "source": [
    "model = BayesianModel([('Upper5', 'Smoke'), ('Upper5', 'time'), \n",
    "                                     ('Upper5', 'Weekday'), ('Upper5', 'sex'),\n",
    "                                     ('Upper5', 'size'),])"
   ]
  },
  {
   "cell_type": "code",
   "execution_count": 64,
   "metadata": {
    "collapsed": true
   },
   "outputs": [],
   "source": [
    "cpd_a = TabularCPD('Upper5', 2, [[1-18/244, 18/244]])"
   ]
  },
  {
   "cell_type": "code",
   "execution_count": 65,
   "metadata": {
    "collapsed": true
   },
   "outputs": [],
   "source": [
    "cpd_s = TabularCPD('Smoke', 2, np.array([[1-87/226, 1-1/3], [87/226, 1/3]]),\n",
    "                                    evidence=['Upper5'], evidence_card=[2])\n",
    "cpd_t = TabularCPD('time', 2, np.array([[1-65/226, 1-1/6], [65/226, 1/6]]),\n",
    "                                    evidence=['Upper5'], evidence_card=[2])\n",
    "cpd_d = TabularCPD('Weekday', 2, np.array([[1-78/226, 1-1/6], [78/226, 1/6]]),\n",
    "                                    evidence=['Upper5'], evidence_card=[2])\n",
    "cpd_sex = TabularCPD('sex', 2, np.array([[1-83/226, 1-2/9], [83/226, 2/9]]),\n",
    "                                    evidence=['Upper5'], evidence_card=[2])\n",
    "cpd_size = TabularCPD('size', 2, np.array([[1-154/226, 1-1/3], [154/226, 1/3]]),\n",
    "                                    evidence=['Upper5'], evidence_card=[2])"
   ]
  },
  {
   "cell_type": "code",
   "execution_count": 66,
   "metadata": {},
   "outputs": [
    {
     "data": {
      "text/plain": [
       "NodeView(('Upper5', 'Smoke', 'time', 'Weekday', 'sex', 'size'))"
      ]
     },
     "execution_count": 66,
     "metadata": {},
     "output_type": "execute_result"
    }
   ],
   "source": [
    "model.add_cpds(cpd_a, cpd_s, cpd_t, cpd_d, cpd_sex, cpd_size)\n",
    "copy_model = model.copy()\n",
    "copy_model.nodes()"
   ]
  },
  {
   "cell_type": "code",
   "execution_count": 67,
   "metadata": {},
   "outputs": [
    {
     "data": {
      "text/plain": [
       "OutEdgeView([('Upper5', 'Smoke'), ('Upper5', 'time'), ('Upper5', 'Weekday'), ('Upper5', 'sex'), ('Upper5', 'size')])"
      ]
     },
     "execution_count": 67,
     "metadata": {},
     "output_type": "execute_result"
    }
   ],
   "source": [
    "copy_model.edges()"
   ]
  },
  {
   "cell_type": "code",
   "execution_count": 68,
   "metadata": {},
   "outputs": [
    {
     "data": {
      "text/plain": [
       "[<TabularCPD representing P(Upper5:2) at 0x7f1ed6081b00>,\n",
       " <TabularCPD representing P(Smoke:2 | Upper5:2) at 0x7f1ee005a9b0>,\n",
       " <TabularCPD representing P(time:2 | Upper5:2) at 0x7f1ed6297da0>,\n",
       " <TabularCPD representing P(Weekday:2 | Upper5:2) at 0x7f1ed2638b00>,\n",
       " <TabularCPD representing P(sex:2 | Upper5:2) at 0x7f1ed61364e0>,\n",
       " <TabularCPD representing P(size:2 | Upper5:2) at 0x7f1ed61364a8>]"
      ]
     },
     "execution_count": 68,
     "metadata": {},
     "output_type": "execute_result"
    }
   ],
   "source": [
    "copy_model.get_cpds()"
   ]
  },
  {
   "cell_type": "code",
   "execution_count": 69,
   "metadata": {},
   "outputs": [
    {
     "name": "stdout",
     "output_type": "stream",
     "text": [
      "╒══════════╤═══════════════╕\n",
      "│ Upper5   │   phi(Upper5) │\n",
      "╞══════════╪═══════════════╡\n",
      "│ Upper5_0 │        0.7516 │\n",
      "├──────────┼───────────────┤\n",
      "│ Upper5_1 │        0.2484 │\n",
      "╘══════════╧═══════════════╛\n",
      "╒══════════╤═══════════════╕\n",
      "│ Upper5   │   phi(Upper5) │\n",
      "╞══════════╪═══════════════╡\n",
      "│ Upper5_0 │        0.9943 │\n",
      "├──────────┼───────────────┤\n",
      "│ Upper5_1 │        0.0057 │\n",
      "╘══════════╧═══════════════╛\n"
     ]
    }
   ],
   "source": [
    "infer = VariableElimination(model)\n",
    "\n",
    "posterior0 = infer.query(['Upper5'], \n",
    "                    evidence={'time': 0, 'Smoke':0,'Weekday':0, 'sex':0, 'size':0})\n",
    "\n",
    "posterior1= infer.query(['Upper5'], \n",
    "                    evidence={'time': 1, 'Smoke':1, 'Weekday':1, 'sex':1, 'size':1})\n",
    "\n",
    "print(posterior0['Upper5']) # 모든 조건 충족\n",
    "print(posterior1['Upper5']) # 모든 조건 반대"
   ]
  },
  {
   "cell_type": "markdown",
   "metadata": {},
   "source": [
    "\n",
    "1. 4인이상 (15%p)\n",
    "1. 주말 (5%p)\n",
    "1. 남성 (4.3%p)      \n",
    "1. 저녁시간 (4.1%p)\n",
    "1. 비흡연자 (1.5%p)\n",
    "\n",
    "모든 조건을 충족했을 경우, 조건을 하나도 충족하지 못했을 경우보다 **24%** 높은 확률로 팁을 많이 받을 수 있다."
   ]
  },
  {
   "cell_type": "code",
   "execution_count": 70,
   "metadata": {},
   "outputs": [
    {
     "name": "stdout",
     "output_type": "stream",
     "text": [
      "total [mean: 3.0, median: 2.9]\n",
      "upper 5 [mean: 6.27, median: 5.885]\n",
      "less 5 [mean: 2.74, median: 2.605]\n"
     ]
    }
   ],
   "source": [
    "print(\"total [mean: {}, median: {}]\".format(mean_tip, median_tip))\n",
    "print(\"upper 5 [mean: {}, median: {}]\".format(mean_tip5, median_tip5))\n",
    "print(\"less 5 [mean: {}, median: {}]\".format(mean_less5, median_less5))"
   ]
  },
  {
   "cell_type": "markdown",
   "metadata": {},
   "source": [
    "- 다음은 각 조건을 제외한 모든 조건을 충족했을 경우의 Upper 5를 만날 확률 이다.\n",
    "> 1. size x : 7%\n",
    ">1. Weekday x : 11%\n",
    ">1. sex x : 13%\n",
    ">1. Dinner x : 14%\n",
    ">1. smoke x : 20%"
   ]
  }
 ],
 "metadata": {
  "kernelspec": {
   "display_name": "Python 3",
   "language": "python",
   "name": "python3"
  },
  "language_info": {
   "codemirror_mode": {
    "name": "ipython",
    "version": 3
   },
   "file_extension": ".py",
   "mimetype": "text/x-python",
   "name": "python",
   "nbconvert_exporter": "python",
   "pygments_lexer": "ipython3",
   "version": "3.6.4"
  }
 },
 "nbformat": 4,
 "nbformat_minor": 2
}
