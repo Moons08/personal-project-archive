{
 "cells": [
  {
   "cell_type": "markdown",
   "metadata": {},
   "source": [
    "# MNIST Digit Recognizer - kaggle\n",
    "\n",
    "## result \n",
    "\n",
    "kaggle score: 0.96900 \n",
    "- with ExtraTreesClassifier(n_estimators=100)\n",
    "\n",
    "first try score: 0.83471\n",
    "- with BernoulliNB(binarize=8)"
   ]
  },
  {
   "cell_type": "code",
   "execution_count": 1,
   "metadata": {},
   "outputs": [],
   "source": [
    "from sklearn.naive_bayes import *\n",
    "from sklearn.metrics import *\n",
    "from sklearn.model_selection import *\n",
    "from sklearn.tree import *\n",
    "from sklearn.ensemble import *\n",
    "\n",
    "df = pd.read_csv('train.csv')"
   ]
  },
  {
   "cell_type": "code",
   "execution_count": 2,
   "metadata": {},
   "outputs": [
    {
     "data": {
      "text/html": [
       "<div>\n",
       "<style scoped>\n",
       "    .dataframe tbody tr th:only-of-type {\n",
       "        vertical-align: middle;\n",
       "    }\n",
       "\n",
       "    .dataframe tbody tr th {\n",
       "        vertical-align: top;\n",
       "    }\n",
       "\n",
       "    .dataframe thead th {\n",
       "        text-align: right;\n",
       "    }\n",
       "</style>\n",
       "<table border=\"1\" class=\"dataframe\">\n",
       "  <thead>\n",
       "    <tr style=\"text-align: right;\">\n",
       "      <th></th>\n",
       "      <th>label</th>\n",
       "      <th>pixel0</th>\n",
       "      <th>pixel1</th>\n",
       "      <th>pixel2</th>\n",
       "      <th>pixel3</th>\n",
       "      <th>pixel4</th>\n",
       "      <th>pixel5</th>\n",
       "      <th>pixel6</th>\n",
       "      <th>pixel7</th>\n",
       "      <th>pixel8</th>\n",
       "      <th>...</th>\n",
       "      <th>pixel774</th>\n",
       "      <th>pixel775</th>\n",
       "      <th>pixel776</th>\n",
       "      <th>pixel777</th>\n",
       "      <th>pixel778</th>\n",
       "      <th>pixel779</th>\n",
       "      <th>pixel780</th>\n",
       "      <th>pixel781</th>\n",
       "      <th>pixel782</th>\n",
       "      <th>pixel783</th>\n",
       "    </tr>\n",
       "  </thead>\n",
       "  <tbody>\n",
       "    <tr>\n",
       "      <th>41995</th>\n",
       "      <td>0</td>\n",
       "      <td>0</td>\n",
       "      <td>0</td>\n",
       "      <td>0</td>\n",
       "      <td>0</td>\n",
       "      <td>0</td>\n",
       "      <td>0</td>\n",
       "      <td>0</td>\n",
       "      <td>0</td>\n",
       "      <td>0</td>\n",
       "      <td>...</td>\n",
       "      <td>0</td>\n",
       "      <td>0</td>\n",
       "      <td>0</td>\n",
       "      <td>0</td>\n",
       "      <td>0</td>\n",
       "      <td>0</td>\n",
       "      <td>0</td>\n",
       "      <td>0</td>\n",
       "      <td>0</td>\n",
       "      <td>0</td>\n",
       "    </tr>\n",
       "    <tr>\n",
       "      <th>41996</th>\n",
       "      <td>1</td>\n",
       "      <td>0</td>\n",
       "      <td>0</td>\n",
       "      <td>0</td>\n",
       "      <td>0</td>\n",
       "      <td>0</td>\n",
       "      <td>0</td>\n",
       "      <td>0</td>\n",
       "      <td>0</td>\n",
       "      <td>0</td>\n",
       "      <td>...</td>\n",
       "      <td>0</td>\n",
       "      <td>0</td>\n",
       "      <td>0</td>\n",
       "      <td>0</td>\n",
       "      <td>0</td>\n",
       "      <td>0</td>\n",
       "      <td>0</td>\n",
       "      <td>0</td>\n",
       "      <td>0</td>\n",
       "      <td>0</td>\n",
       "    </tr>\n",
       "    <tr>\n",
       "      <th>41997</th>\n",
       "      <td>7</td>\n",
       "      <td>0</td>\n",
       "      <td>0</td>\n",
       "      <td>0</td>\n",
       "      <td>0</td>\n",
       "      <td>0</td>\n",
       "      <td>0</td>\n",
       "      <td>0</td>\n",
       "      <td>0</td>\n",
       "      <td>0</td>\n",
       "      <td>...</td>\n",
       "      <td>0</td>\n",
       "      <td>0</td>\n",
       "      <td>0</td>\n",
       "      <td>0</td>\n",
       "      <td>0</td>\n",
       "      <td>0</td>\n",
       "      <td>0</td>\n",
       "      <td>0</td>\n",
       "      <td>0</td>\n",
       "      <td>0</td>\n",
       "    </tr>\n",
       "    <tr>\n",
       "      <th>41998</th>\n",
       "      <td>6</td>\n",
       "      <td>0</td>\n",
       "      <td>0</td>\n",
       "      <td>0</td>\n",
       "      <td>0</td>\n",
       "      <td>0</td>\n",
       "      <td>0</td>\n",
       "      <td>0</td>\n",
       "      <td>0</td>\n",
       "      <td>0</td>\n",
       "      <td>...</td>\n",
       "      <td>0</td>\n",
       "      <td>0</td>\n",
       "      <td>0</td>\n",
       "      <td>0</td>\n",
       "      <td>0</td>\n",
       "      <td>0</td>\n",
       "      <td>0</td>\n",
       "      <td>0</td>\n",
       "      <td>0</td>\n",
       "      <td>0</td>\n",
       "    </tr>\n",
       "    <tr>\n",
       "      <th>41999</th>\n",
       "      <td>9</td>\n",
       "      <td>0</td>\n",
       "      <td>0</td>\n",
       "      <td>0</td>\n",
       "      <td>0</td>\n",
       "      <td>0</td>\n",
       "      <td>0</td>\n",
       "      <td>0</td>\n",
       "      <td>0</td>\n",
       "      <td>0</td>\n",
       "      <td>...</td>\n",
       "      <td>0</td>\n",
       "      <td>0</td>\n",
       "      <td>0</td>\n",
       "      <td>0</td>\n",
       "      <td>0</td>\n",
       "      <td>0</td>\n",
       "      <td>0</td>\n",
       "      <td>0</td>\n",
       "      <td>0</td>\n",
       "      <td>0</td>\n",
       "    </tr>\n",
       "  </tbody>\n",
       "</table>\n",
       "<p>5 rows × 785 columns</p>\n",
       "</div>"
      ],
      "text/plain": [
       "       label  pixel0  pixel1  pixel2  pixel3  pixel4  pixel5  pixel6  pixel7  \\\n",
       "41995      0       0       0       0       0       0       0       0       0   \n",
       "41996      1       0       0       0       0       0       0       0       0   \n",
       "41997      7       0       0       0       0       0       0       0       0   \n",
       "41998      6       0       0       0       0       0       0       0       0   \n",
       "41999      9       0       0       0       0       0       0       0       0   \n",
       "\n",
       "       pixel8    ...     pixel774  pixel775  pixel776  pixel777  pixel778  \\\n",
       "41995       0    ...            0         0         0         0         0   \n",
       "41996       0    ...            0         0         0         0         0   \n",
       "41997       0    ...            0         0         0         0         0   \n",
       "41998       0    ...            0         0         0         0         0   \n",
       "41999       0    ...            0         0         0         0         0   \n",
       "\n",
       "       pixel779  pixel780  pixel781  pixel782  pixel783  \n",
       "41995         0         0         0         0         0  \n",
       "41996         0         0         0         0         0  \n",
       "41997         0         0         0         0         0  \n",
       "41998         0         0         0         0         0  \n",
       "41999         0         0         0         0         0  \n",
       "\n",
       "[5 rows x 785 columns]"
      ]
     },
     "execution_count": 2,
     "metadata": {},
     "output_type": "execute_result"
    }
   ],
   "source": [
    "df.tail()"
   ]
  },
  {
   "cell_type": "code",
   "execution_count": 3,
   "metadata": {},
   "outputs": [],
   "source": [
    "y = df['label']\n",
    "X = df.iloc[:, 1:]"
   ]
  },
  {
   "cell_type": "code",
   "execution_count": 4,
   "metadata": {},
   "outputs": [
    {
     "name": "stdout",
     "output_type": "stream",
     "text": [
      "MNB confusion_matrix \n",
      "\n",
      " [[3760    1   19   14    6   55   68    0  204    5]\n",
      " [   0 4364   29   32    2   18   22    2  203   12]\n",
      " [  48   55 3473   96   47    7  182   38  218   13]\n",
      " [  23   81  208 3506    9   92   52   35  219  126]\n",
      " [  14   12   27    2 3004    9   78   10  169  747]\n",
      " [ 108   33   31  478   85 2502   82    9  336  131]\n",
      " [  42   73   42    3   25  102 3793    0   57    0]\n",
      " [  23   70   33   13   99    1    6 3628  149  379]\n",
      " [  20  207   48  215   48  154   28   14 3185  144]\n",
      " [  24   32   14   52  291   16    2  111  164 3482]] \n",
      "\n",
      "\n",
      "MNB              precision    recall  f1-score   support\n",
      "\n",
      "          0       0.93      0.91      0.92      4132\n",
      "          1       0.89      0.93      0.91      4684\n",
      "          2       0.89      0.83      0.86      4177\n",
      "          3       0.79      0.81      0.80      4351\n",
      "          4       0.83      0.74      0.78      4072\n",
      "          5       0.85      0.66      0.74      3795\n",
      "          6       0.88      0.92      0.90      4137\n",
      "          7       0.94      0.82      0.88      4401\n",
      "          8       0.65      0.78      0.71      4063\n",
      "          9       0.69      0.83      0.75      4188\n",
      "\n",
      "avg / total       0.83      0.83      0.83     42000\n",
      "\n",
      "accuracy score :  0.8261190476190476\n"
     ]
    },
    {
     "data": {
      "text/plain": [
       "0.8249047619047619"
      ]
     },
     "execution_count": 4,
     "metadata": {},
     "output_type": "execute_result"
    }
   ],
   "source": [
    "model_mult = MultinomialNB().fit(X, y)\n",
    "\n",
    "y_pred = model_mult.predict(X)\n",
    "\n",
    "print(\"MNB confusion_matrix \\n\\n\",confusion_matrix(y, y_pred),\"\\n\\n\")\n",
    "print(\"MNB\",classification_report(y, y_pred))\n",
    "print(\"accuracy score : \", accuracy_score(y, y_pred))\n",
    "\n",
    "cv = KFold(5)\n",
    "cross_val_score(model_mult, X, y, scoring=\"accuracy\", cv=cv).mean()"
   ]
  },
  {
   "cell_type": "code",
   "execution_count": 5,
   "metadata": {},
   "outputs": [
    {
     "name": "stdout",
     "output_type": "stream",
     "text": [
      "BN confusion_matrix \n",
      "\n",
      " [[3711    2   17   22   11  195   70    1   98    5]\n",
      " [   0 4493   46   16    1   43   16    2   57   10]\n",
      " [  65   56 3455  111   88   15  157   51  166   13]\n",
      " [  41   90  189 3462   14  100   44   52  234  125]\n",
      " [   6   38   26    0 3281   20   61   21   85  534]\n",
      " [ 115   57   27  560  108 2656   81   15   70  106]\n",
      " [  57   97   70    3   36  132 3721    0   21    0]\n",
      " [  14   93   45   11  114    4    2 3729   83  306]\n",
      " [  48  152   52  317   44  114   26   13 3146  151]\n",
      " [  40   67   16   59  299   20    2  156  105 3424]] \n",
      "\n",
      "\n",
      "BN              precision    recall  f1-score   support\n",
      "\n",
      "          0       0.91      0.90      0.90      4132\n",
      "          1       0.87      0.96      0.91      4684\n",
      "          2       0.88      0.83      0.85      4177\n",
      "          3       0.76      0.80      0.78      4351\n",
      "          4       0.82      0.81      0.81      4072\n",
      "          5       0.81      0.70      0.75      3795\n",
      "          6       0.89      0.90      0.89      4137\n",
      "          7       0.92      0.85      0.88      4401\n",
      "          8       0.77      0.77      0.77      4063\n",
      "          9       0.73      0.82      0.77      4188\n",
      "\n",
      "avg / total       0.84      0.84      0.83     42000\n",
      "\n",
      "accuracy score :  0.8351904761904761\n"
     ]
    },
    {
     "data": {
      "text/plain": [
       "0.8342380952380953"
      ]
     },
     "execution_count": 5,
     "metadata": {},
     "output_type": "execute_result"
    }
   ],
   "source": [
    "model_bern = BernoulliNB(binarize=8).fit(X, y)\n",
    "\n",
    "y_pred = model_bern.predict(X)\n",
    "\n",
    "print(\"BN confusion_matrix \\n\\n\",confusion_matrix(y, y_pred),\"\\n\\n\")\n",
    "print(\"BN\",classification_report(y, y_pred))\n",
    "print(\"accuracy score : \", accuracy_score(y, y_pred))\n",
    "\n",
    "cross_val_score(model_bern, X, y, scoring=\"accuracy\", cv=cv).mean()"
   ]
  },
  {
   "cell_type": "markdown",
   "metadata": {},
   "source": [
    "---"
   ]
  },
  {
   "cell_type": "code",
   "execution_count": 6,
   "metadata": {},
   "outputs": [
    {
     "name": "stdout",
     "output_type": "stream",
     "text": [
      "0.8554999999999999\n"
     ]
    }
   ],
   "source": [
    "DT = DecisionTreeClassifier().fit(X, y)\n",
    "print(cross_val_score(DT, X, y, scoring=\"accuracy\", cv=cv).mean())"
   ]
  },
  {
   "cell_type": "code",
   "execution_count": 7,
   "metadata": {},
   "outputs": [
    {
     "name": "stdout",
     "output_type": "stream",
     "text": [
      "0.9644999999999999\n"
     ]
    }
   ],
   "source": [
    "forest = RandomForestClassifier(n_estimators=100).fit(X, y)\n",
    "print(cross_val_score(forest, X, y, scoring=\"accuracy\", cv=cv).mean())"
   ]
  },
  {
   "cell_type": "code",
   "execution_count": 8,
   "metadata": {},
   "outputs": [
    {
     "name": "stdout",
     "output_type": "stream",
     "text": [
      "0.9418809523809524\n"
     ]
    }
   ],
   "source": [
    "Eforest = ExtraTreesClassifier(n_estimators=10).fit(X, y)\n",
    "print(cross_val_score(Eforest, X, y, scoring=\"accuracy\", cv=cv).mean())"
   ]
  },
  {
   "cell_type": "markdown",
   "metadata": {},
   "source": [
    "---"
   ]
  },
  {
   "cell_type": "code",
   "execution_count": 9,
   "metadata": {},
   "outputs": [],
   "source": [
    "test = pd.read_csv('test.csv')\n",
    "\n",
    "y_test = Eforest.predict(test)\n",
    "answer = pd.Series(y_test, index=list(range(1,28000+1))).reset_index()\n",
    "answer.rename(columns={'index':'ImageId', 0:'Label'}, inplace=True)\n",
    "answer.to_csv('ans.csv', index=False)"
   ]
  }
 ],
 "metadata": {
  "kernelspec": {
   "display_name": "Python 3",
   "language": "python",
   "name": "python3"
  },
  "language_info": {
   "codemirror_mode": {
    "name": "ipython",
    "version": 3
   },
   "file_extension": ".py",
   "mimetype": "text/x-python",
   "name": "python",
   "nbconvert_exporter": "python",
   "pygments_lexer": "ipython3",
   "version": "3.6.4"
  }
 },
 "nbformat": 4,
 "nbformat_minor": 2
}
